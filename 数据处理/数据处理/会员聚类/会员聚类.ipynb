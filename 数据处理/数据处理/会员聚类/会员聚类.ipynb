{
 "cells": [
  {
   "cell_type": "code",
   "execution_count": 1,
   "metadata": {},
   "outputs": [
    {
     "name": "stderr",
     "output_type": "stream",
     "text": [
      "D:\\anaconda3\\lib\\site-packages\\sklearn\\utils\\deprecation.py:143: FutureWarning: The sklearn.linear_model.logistic module is  deprecated in version 0.22 and will be removed in version 0.24. The corresponding classes / functions should instead be imported from sklearn.linear_model. Anything that cannot be imported from sklearn.linear_model is now part of the private API.\n",
      "  warnings.warn(message, FutureWarning)\n"
     ]
    }
   ],
   "source": [
    "import pandas, os, re, xlrd, numpy\n",
    "import matplotlib.pyplot as plt\n",
    "from sklearn.model_selection import train_test_split\n",
    "from sklearn.tree import DecisionTreeClassifier\n",
    "from sklearn.neural_network import MLPClassifier\n",
    "from sklearn import *\n",
    "from sklearn.linear_model.logistic import LogisticRegression\n",
    "from sklearn.metrics import accuracy_score"
   ]
  },
  {
   "cell_type": "code",
   "execution_count": null,
   "metadata": {},
   "outputs": [],
   "source": [
    "#数据读入\n",
    "path = './数据整理/B站用户信息/用户信息.xlsx'\n",
    "excel = xlrd.open_workbook(path)\n",
    "lis = excel.sheet_names()\n",
    "datas = []\n",
    "for i in lis:\n",
    "    data = pandas.read_excel(path, i)[['user_sex', 'user_level', 'user_is_vip']]\n",
    "    datas.append(data)\n",
    "data = pandas.concat(datas)"
   ]
  },
  {
   "cell_type": "code",
   "execution_count": null,
   "metadata": {},
   "outputs": [],
   "source": [
    "#保留原始数据\n",
    "data_ini = data"
   ]
  },
  {
   "cell_type": "code",
   "execution_count": null,
   "metadata": {},
   "outputs": [],
   "source": [
    "#数据预处理\n",
    "data = data[data['user_sex'] != '保密']\n",
    "data.loc[data['user_sex'] == '男', 'user_sex'] = 1\n",
    "data.loc[data['user_sex'] == '女', 'user_sex'] = 0\n",
    "data.loc[data['user_is_vip'] == 'N', 'user_is_vip'] = 0\n",
    "data.loc[data['user_is_vip'] == 'Y', 'user_is_vip'] = 1"
   ]
  },
  {
   "cell_type": "code",
   "execution_count": null,
   "metadata": {},
   "outputs": [],
   "source": [
    "#训练、测试集划分\n",
    "data_train = data[['user_sex', 'user_level']].values.astype(float)\n",
    "data_target = data['user_is_vip'].values.astype(float).reshape(-1, 1)\n",
    "x_train, x_test, y_train, y_test = train_test_split(data_train,data_target,test_size=0.2)"
   ]
  },
  {
   "cell_type": "code",
   "execution_count": null,
   "metadata": {},
   "outputs": [],
   "source": [
    "#决策树模型及评价\n",
    "model = DecisionTreeClassifier()\n",
    "model.fit(x_train, y_train)\n",
    "model.score(x_test, y_test)"
   ]
  },
  {
   "cell_type": "code",
   "execution_count": null,
   "metadata": {},
   "outputs": [],
   "source": [
    "#逻辑回归模型\n",
    "logreg = LogisticRegression()\n",
    "logreg.fit(x_train, y_train)\n",
    "y_test_pred = logreg.predict(x_test)\n",
    "#分别计算两组测试集和训练集的均方误差、平均绝对误差和决定系数\n",
    "mse = metrics.mean_squared_error(y_test, y_test_pred)\n",
    "mae = metrics.mean_absolute_error(y_test, y_test_pred)\n",
    "print('房价预测模型的MSE、MAE与准确度为：')\n",
    "print(mse, mae, accuracy_score(y_test_pred, y_test))"
   ]
  },
  {
   "cell_type": "code",
   "execution_count": null,
   "metadata": {},
   "outputs": [],
   "source": [
    "#神经网络模型及评价\n",
    "mlp = MLPClassifier(solver='lbfgs', alpha=1e-5, hidden_layer_sizes=(5, 5))\n",
    "mlp.fit(x_train, y_train)\n",
    "y_test_pre = mlp.predict(x_test)\n",
    "print('准确率：', mlp.score(x_test, y_test))\n",
    "print(\"预测报告：\")\n",
    "print(metrics.classification_report(y_test, y_test_pre))\n",
    "print('混淆矩阵:')\n",
    "print(metrics.confusion_matrix(y_test, y_test_pre))"
   ]
  },
  {
   "cell_type": "code",
   "execution_count": null,
   "metadata": {},
   "outputs": [],
   "source": []
  }
 ],
 "metadata": {
  "kernelspec": {
   "display_name": "Python 3",
   "language": "python",
   "name": "python3"
  },
  "language_info": {
   "codemirror_mode": {
    "name": "ipython",
    "version": 3
   },
   "file_extension": ".py",
   "mimetype": "text/x-python",
   "name": "python",
   "nbconvert_exporter": "python",
   "pygments_lexer": "ipython3",
   "version": "3.8.3"
  }
 },
 "nbformat": 4,
 "nbformat_minor": 4
}
